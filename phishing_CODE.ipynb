{
  "nbformat": 4,
  "nbformat_minor": 0,
  "metadata": {
    "colab": {
      "provenance": [],
      "gpuType": "T4"
    },
    "kernelspec": {
      "name": "python3",
      "display_name": "Python 3"
    },
    "language_info": {
      "name": "python"
    },
    "accelerator": "GPU"
  },
  "cells": [
    {
      "cell_type": "code",
      "source": [
        "import pandas as pd\n",
        "import numpy as np\n",
        "from sklearn.model_selection import train_test_split, cross_val_score, GridSearchCV\n",
        "from sklearn.ensemble import RandomForestClassifier\n",
        "from sklearn.preprocessing import StandardScaler\n",
        "from sklearn.metrics import classification_report, confusion_matrix\n",
        "import joblib\n",
        "import logging\n",
        "import re\n",
        "from urllib.parse import urlparse\n",
        "import warnings\n",
        "import os\n",
        "from pathlib import Path\n"
      ],
      "metadata": {
        "id": "XuZhnURRjfHz"
      },
      "execution_count": 1,
      "outputs": []
    },
    {
      "cell_type": "code",
      "source": [
        "\n",
        "# Suppress warnings for cleaner output\n",
        "warnings.filterwarnings('ignore')\n",
        "\n",
        "# Configure logging\n",
        "logging.basicConfig(\n",
        "    level=logging.INFO,\n",
        "    format='%(asctime)s - %(levelname)s - %(message)s',\n",
        "    handlers=[\n",
        "        logging.FileHandler('phishing_detection.log'),\n",
        "        logging.StreamHandler()\n",
        "    ]\n",
        ")\n",
        "logger = logging.getLogger(__name__)\n",
        "\n",
        "# Ensure output directory exists\n",
        "OUTPUT_DIR = Path('model_outputs')\n",
        "OUTPUT_DIR.mkdir(exist_ok=True)\n"
      ],
      "metadata": {
        "id": "67HHsq9FjgC-"
      },
      "execution_count": 2,
      "outputs": []
    },
    {
      "cell_type": "code",
      "source": [
        "\n",
        "def load_data(file_path):\n",
        "    \"\"\"Load and validate the phishing dataset.\"\"\"\n",
        "    try:\n",
        "        logger.info(f\"Loading dataset from {file_path}\")\n",
        "        df = pd.read_csv(file_path, sep=';')\n",
        "\n",
        "        # Validate required columns\n",
        "        required_columns = ['Type', 'url_length', 'number_of_dots_in_url', 'entropy_of_url', 'entropy_of_domain']\n",
        "        if not all(col in df.columns for col in required_columns):\n",
        "            raise ValueError(\"Dataset missing required columns\")\n",
        "\n",
        "        # Handle missing values\n",
        "        df = df.dropna()\n",
        "\n",
        "        # Ensure 'Type' is binary (0 or 1)\n",
        "        if not df['Type'].isin([0, 1]).all():\n",
        "            raise ValueError(\"Type column must contain only 0 or 1\")\n",
        "\n",
        "        logger.info(f\"Dataset loaded successfully. Shape: {df.shape}\")\n",
        "        return df\n",
        "    except Exception as e:\n",
        "        logger.error(f\"Error loading dataset: {str(e)}\")\n",
        "        raise\n"
      ],
      "metadata": {
        "id": "Jlyd39TcjjC1"
      },
      "execution_count": 3,
      "outputs": []
    },
    {
      "cell_type": "code",
      "source": [
        "\n",
        "def preprocess_data(df):\n",
        "    \"\"\"Preprocess the dataset for model training.\"\"\"\n",
        "    try:\n",
        "        logger.info(\"Preprocessing data...\")\n",
        "\n",
        "        # Separate features and target\n",
        "        X = df.drop('Type', axis=1)\n",
        "        y = df['Type']\n",
        "\n",
        "        # Normalize numerical features\n",
        "        scaler = StandardScaler()\n",
        "        X_scaled = scaler.fit_transform(X)\n",
        "\n",
        "        logger.info(\"Data preprocessing completed.\")\n",
        "        return X_scaled, y, scaler, X.columns\n",
        "    except Exception as e:\n",
        "        logger.error(f\"Error in preprocessing: {str(e)}\")\n",
        "        raise\n"
      ],
      "metadata": {
        "id": "R3vD31PTjkTe"
      },
      "execution_count": 4,
      "outputs": []
    },
    {
      "cell_type": "code",
      "source": [
        "\n",
        "def train_model(X, y):\n",
        "    \"\"\"Train a Random Forest model with hyperparameter tuning.\"\"\"\n",
        "    try:\n",
        "        logger.info(\"Starting model training...\")\n",
        "\n",
        "        # Define parameter grid for GridSearchCV\n",
        "        param_grid = {\n",
        "            'n_estimators': [100, 200],\n",
        "            'max_depth': [10, 20, None],\n",
        "            'min_samples_split': [2, 5],\n",
        "            'min_samples_leaf': [1, 2]\n",
        "        }\n",
        "\n",
        "        # Initialize Random Forest\n",
        "        rf = RandomForestClassifier(random_state=42)\n",
        "\n",
        "        # Perform grid search\n",
        "        grid_search = GridSearchCV(\n",
        "            estimator=rf,\n",
        "            param_grid=param_grid,\n",
        "            cv=5,\n",
        "            n_jobs=-1,\n",
        "            scoring='f1',\n",
        "            verbose=1\n",
        "        )\n",
        "\n",
        "        grid_search.fit(X, y)\n",
        "\n",
        "        # Get best model\n",
        "        best_model = grid_search.best_estimator_\n",
        "\n",
        "        # Perform cross-validation\n",
        "        cv_scores = cross_val_score(best_model, X, y, cv=5, scoring='f1')\n",
        "\n",
        "        logger.info(f\"Best parameters: {grid_search.best_params_}\")\n",
        "        logger.info(f\"Cross-validation F1 scores: {cv_scores}\")\n",
        "        logger.info(f\"Average CV F1 score: {cv_scores.mean():.4f} (+/- {cv_scores.std() * 2:.4f})\")\n",
        "\n",
        "        return best_model\n",
        "    except Exception as e:\n",
        "        logger.error(f\"Error in model training: {str(e)}\")\n",
        "        raise\n"
      ],
      "metadata": {
        "id": "zOHmV6vkjlfF"
      },
      "execution_count": 5,
      "outputs": []
    },
    {
      "cell_type": "code",
      "source": [
        "\n",
        "def evaluate_model(model, X_test, y_test):\n",
        "    \"\"\"Evaluate the model on test data.\"\"\"\n",
        "    try:\n",
        "        logger.info(\"Evaluating model...\")\n",
        "\n",
        "        y_pred = model.predict(X_test)\n",
        "\n",
        "        # Log classification report\n",
        "        logger.info(\"\\nClassification Report:\")\n",
        "        logger.info(classification_report(y_test, y_pred))\n",
        "\n",
        "        # Log confusion matrix\n",
        "        logger.info(\"\\nConfusion Matrix:\")\n",
        "        logger.info(confusion_matrix(y_test, y_pred))\n",
        "\n",
        "    except Exception as e:\n",
        "        logger.error(f\"Error in model evaluation: {str(e)}\")\n",
        "        raise\n"
      ],
      "metadata": {
        "id": "hsvIDtm6jnUj"
      },
      "execution_count": 6,
      "outputs": []
    },
    {
      "cell_type": "code",
      "source": [
        "\n",
        "def save_model_and_scaler(model, scaler, feature_names):\n",
        "    \"\"\"Save the trained model, scaler, and feature names.\"\"\"\n",
        "    try:\n",
        "        logger.info(\"Saving model and scaler...\")\n",
        "\n",
        "        joblib.dump(model, OUTPUT_DIR / 'phishing_model.pkl')\n",
        "        joblib.dump(scaler, OUTPUT_DIR / 'scaler.pkl')\n",
        "        joblib.dump(feature_names, OUTPUT_DIR / 'feature_names.pkl')\n",
        "\n",
        "        logger.info(\"Model and scaler saved successfully.\")\n",
        "    except Exception as e:\n",
        "        logger.error(f\"Error saving model: {str(e)}\")\n",
        "        raise\n"
      ],
      "metadata": {
        "id": "mKK4HoFqjod1"
      },
      "execution_count": 7,
      "outputs": []
    },
    {
      "cell_type": "code",
      "source": [
        "\n",
        "def calculate_entropy(text):\n",
        "    \"\"\"Calculate Shannon entropy of a string.\"\"\"\n",
        "    if not text:\n",
        "        return 0.0\n",
        "    length = len(text)\n",
        "    if length <= 1:\n",
        "        return 0.0\n",
        "    prob = [float(text.count(c)) / length for c in set(text)]\n",
        "    return -sum(p * np.log2(p) for p in prob if p > 0)\n"
      ],
      "metadata": {
        "id": "syIDcS9tjqfC"
      },
      "execution_count": 8,
      "outputs": []
    },
    {
      "cell_type": "code",
      "source": [
        "\n",
        "def extract_url_features(url):\n",
        "    \"\"\"Extract features from a URL consistent with the dataset.\"\"\"\n",
        "    try:\n",
        "        # Normalize URL: remove trailing slash and convert to lowercase\n",
        "        url = url.rstrip('/').lower()\n",
        "        parsed_url = urlparse(url)\n",
        "        domain = parsed_url.netloc\n",
        "        path = parsed_url.path\n",
        "        query = parsed_url.query\n",
        "        fragment = parsed_url.fragment\n",
        "\n",
        "        # Initialize feature dictionary\n",
        "        features = {}\n",
        "\n",
        "        # URL-based features\n",
        "        features['url_length'] = len(url)\n",
        "        features['number_of_dots_in_url'] = url.count('.')\n",
        "        features['having_repeated_digits_in_url'] = 1 if re.search(r'(\\d)\\1', url) else 0\n",
        "        features['number_of_digits_in_url'] = sum(c.isdigit() for c in url)\n",
        "        features['number_of_special_char_in_url'] = sum(not c.isalnum() and c != '.' for c in url)\n",
        "        features['number_of_hyphens_in_url'] = url.count('-')\n",
        "        features['number_of_underline_in_url'] = url.count('_')\n",
        "        features['number_of_slash_in_url'] = url.count('/')\n",
        "        features['number_of_questionmark_in_url'] = url.count('?')\n",
        "        features['number_of_equal_in_url'] = url.count('=')\n",
        "        features['number_of_at_in_url'] = url.count('@')\n",
        "        features['number_of_dollar_in_url'] = url.count('$')\n",
        "        features['number_of_exclamation_in_url'] = url.count('!')\n",
        "        features['number_of_hashtag_in_url'] = url.count('#')\n",
        "        features['number_of_percent_in_url'] = url.count('%')\n",
        "\n",
        "        # Domain-based features\n",
        "        features['domain_length'] = len(domain)\n",
        "        features['number_of_dots_in_domain'] = domain.count('.')\n",
        "        features['number_of_hyphens_in_domain'] = domain.count('-')\n",
        "        features['having_special_characters_in_domain'] = 1 if any(not c.isalnum() and c != '.' and c != '-' for c in domain) else 0\n",
        "        features['number_of_special_characters_in_domain'] = sum(not c.isalnum() and c != '.' and c != '-' for c in domain)\n",
        "        features['having_digits_in_domain'] = 1 if any(c.isdigit() for c in domain) else 0\n",
        "        features['number_of_digits_in_domain'] = sum(c.isdigit() for c in domain)\n",
        "        features['having_repeated_digits_in_domain'] = 1 if re.search(r'(\\d)\\1', domain) else 0\n",
        "\n",
        "        # Subdomain features\n",
        "        subdomains = domain.split('.')[:-2]  # Exclude TLD and main domain\n",
        "        features['number_of_subdomains'] = len(subdomains)\n",
        "        features['having_dot_in_subdomain'] = 1 if any('.' in subd for subd in subdomains) else 0\n",
        "        features['having_hyphen_in_subdomain'] = 1 if any('-' in subd for subd in subdomains) else 0\n",
        "        features['average_subdomain_length'] = np.mean([len(subd) for subd in subdomains]) if subdomains else 0\n",
        "        features['average_number_of_dots_in_subdomain'] = np.mean([subd.count('.') for subd in subdomains]) if subdomains else 0\n",
        "        features['average_number_of_hyphens_in_subdomain'] = np.mean([subd.count('-') for subd in subdomains]) if subdomains else 0\n",
        "        features['having_special_characters_in_subdomain'] = 1 if any(not c.isalnum() and c != '.' and c != '-' for subd in subdomains for c in subd) else 0\n",
        "        features['number_of_special_characters_in_subdomain'] = sum(not c.isalnum() and c != '.' and c != '-' for subd in subdomains for c in subd)\n",
        "        features['having_digits_in_subdomain'] = 1 if any(c.isdigit() for subd in subdomains for c in subd) else 0\n",
        "        features['number_of_digits_in_subdomain'] = sum(c.isdigit() for subd in subdomains for c in subd)\n",
        "        features['having_repeated_digits_in_subdomain'] = 1 if any(re.search(r'(\\d)\\1', subd) for subd in subdomains) else 0\n",
        "\n",
        "        # Path and other features\n",
        "        features['having_path'] = 1 if path else 0\n",
        "        features['path_length'] = len(path)\n",
        "        features['having_query'] = 1 if query else 0\n",
        "        features['having_fragment'] = 1 if fragment else 0\n",
        "        features['having_anchor'] = 1 if '#' in url else 0\n",
        "\n",
        "        # Entropy features\n",
        "        features['entropy_of_url'] = calculate_entropy(url)\n",
        "        features['entropy_of_domain'] = calculate_entropy(domain)\n",
        "\n",
        "        return features\n",
        "    except Exception as e:\n",
        "        logger.error(f\"Error extracting features from URL {url}: {str(e)}\")\n",
        "        raise\n"
      ],
      "metadata": {
        "id": "zscpThM9jrWW"
      },
      "execution_count": 9,
      "outputs": []
    },
    {
      "cell_type": "code",
      "source": [
        "\n",
        "def test_url(url, model, scaler, feature_names):\n",
        "    \"\"\"Test an unseen URL for phishing.\"\"\"\n",
        "    try:\n",
        "        logger.info(f\"Testing URL: {url}\")\n",
        "\n",
        "        # Extract features\n",
        "        features = extract_url_features(url)\n",
        "\n",
        "        # Create DataFrame with correct feature order\n",
        "        feature_df = pd.DataFrame([features])[feature_names]\n",
        "\n",
        "        # Scale features\n",
        "        features_scaled = scaler.transform(feature_df)\n",
        "\n",
        "        # Predict\n",
        "        prediction = model.predict(features_scaled)[0]\n",
        "        probability = model.predict_proba(features_scaled)[0]\n",
        "\n",
        "        result = {\n",
        "            'url': url,\n",
        "            'is_phishing': bool(prediction),\n",
        "            'phishing_probability': float(probability[1]),\n",
        "            'features': features\n",
        "        }\n",
        "\n",
        "        logger.info(f\"Prediction: {'Phishing' if prediction else 'Safe'} (Probability: {probability[1]:.4f})\")\n",
        "        return result\n",
        "    except Exception as e:\n",
        "        logger.error(f\"Error testing URL {url}: {str(e)}\")\n",
        "        raise\n"
      ],
      "metadata": {
        "id": "5rJ0ef7-jsr-"
      },
      "execution_count": 10,
      "outputs": []
    },
    {
      "cell_type": "code",
      "source": [
        "def main():\n",
        "    \"\"\"Main function to train the model and set up testing.\"\"\"\n",
        "    try:\n",
        "        # Load data\n",
        "        df = load_data('/content/phishng.csv')\n",
        "\n",
        "        # Preprocess data\n",
        "        X_scaled, y, scaler, feature_names = preprocess_data(df)\n",
        "\n",
        "        # Split data\n",
        "        X_train, X_test, y_train, y_test = train_test_split(\n",
        "            X_scaled, y, test_size=0.2, random_state=42, stratify=y\n",
        "        )\n",
        "\n",
        "        # Train model\n",
        "        model = train_model(X_train, y_train)\n",
        "\n",
        "        # Evaluate model\n",
        "        evaluate_model(model, X_test, y_test)\n",
        "\n",
        "        # Save model and scaler\n",
        "        save_model_and_scaler(model, scaler, feature_names)\n",
        "\n",
        "        # Example: Test a URL\n",
        "        test_urls = [\n",
        "            'https://www.google.com/',\n",
        "            'http://fake-login-page.com/login.php'\n",
        "        ]\n",
        "\n",
        "        for url in test_urls:\n",
        "            result = test_url(url, model, scaler, feature_names)\n",
        "            print(f\"\\nURL: {result['url']}\")\n",
        "            print(f\"Prediction: {'Phishing' if result['is_phishing'] else 'Safe'}\")\n",
        "            print(f\"Phishing Probability: {result['phishing_probability']:.4f}\")\n",
        "\n",
        "    except Exception as e:\n",
        "        logger.error(f\"Error in main execution: {str(e)}\")\n",
        "        raise\n"
      ],
      "metadata": {
        "id": "tW5KBnSCjt6s"
      },
      "execution_count": 11,
      "outputs": []
    },
    {
      "cell_type": "code",
      "source": [
        "\n",
        "if __name__ == '__main__':\n",
        "    main()"
      ],
      "metadata": {
        "colab": {
          "base_uri": "https://localhost:8080/"
        },
        "id": "13gkFJRTjvFW",
        "outputId": "ce20c550-4944-45c5-980c-100fc8c60f2b"
      },
      "execution_count": 12,
      "outputs": [
        {
          "output_type": "stream",
          "name": "stdout",
          "text": [
            "Fitting 5 folds for each of 24 candidates, totalling 120 fits\n",
            "\n",
            "URL: https://www.google.com/\n",
            "Prediction: Safe\n",
            "Phishing Probability: 0.3050\n",
            "\n",
            "URL: http://fake-login-page.com/login.php\n",
            "Prediction: Phishing\n",
            "Phishing Probability: 0.6300\n"
          ]
        }
      ]
    },
    {
      "cell_type": "code",
      "source": [
        "import joblib\n",
        "\n",
        "# Load saved model, scaler, and feature names\n",
        "model = joblib.load('model_outputs/phishing_model.pkl')\n",
        "scaler = joblib.load('model_outputs/scaler.pkl')\n",
        "feature_names = joblib.load('model_outputs/feature_names.pkl')"
      ],
      "metadata": {
        "id": "fUk4ZZACxbZx"
      },
      "execution_count": 15,
      "outputs": []
    },
    {
      "cell_type": "code",
      "source": [
        "test_url( 'https://learn1.bue.edu.eg/login/index.php',model,scaler,feature_names)"
      ],
      "metadata": {
        "colab": {
          "base_uri": "https://localhost:8080/"
        },
        "id": "vMcNSNY7ksat",
        "outputId": "2cab31e1-fe5b-45b5-dcfa-b7da27e7bc02"
      },
      "execution_count": 28,
      "outputs": [
        {
          "output_type": "execute_result",
          "data": {
            "text/plain": [
              "{'url': 'https://learn1.bue.edu.eg/login/index.php',\n",
              " 'is_phishing': False,\n",
              " 'phishing_probability': 0.25,\n",
              " 'features': {'url_length': 41,\n",
              "  'number_of_dots_in_url': 4,\n",
              "  'having_repeated_digits_in_url': 0,\n",
              "  'number_of_digits_in_url': 1,\n",
              "  'number_of_special_char_in_url': 5,\n",
              "  'number_of_hyphens_in_url': 0,\n",
              "  'number_of_underline_in_url': 0,\n",
              "  'number_of_slash_in_url': 4,\n",
              "  'number_of_questionmark_in_url': 0,\n",
              "  'number_of_equal_in_url': 0,\n",
              "  'number_of_at_in_url': 0,\n",
              "  'number_of_dollar_in_url': 0,\n",
              "  'number_of_exclamation_in_url': 0,\n",
              "  'number_of_hashtag_in_url': 0,\n",
              "  'number_of_percent_in_url': 0,\n",
              "  'domain_length': 17,\n",
              "  'number_of_dots_in_domain': 3,\n",
              "  'number_of_hyphens_in_domain': 0,\n",
              "  'having_special_characters_in_domain': 0,\n",
              "  'number_of_special_characters_in_domain': 0,\n",
              "  'having_digits_in_domain': 1,\n",
              "  'number_of_digits_in_domain': 1,\n",
              "  'having_repeated_digits_in_domain': 0,\n",
              "  'number_of_subdomains': 2,\n",
              "  'having_dot_in_subdomain': 0,\n",
              "  'having_hyphen_in_subdomain': 0,\n",
              "  'average_subdomain_length': np.float64(4.5),\n",
              "  'average_number_of_dots_in_subdomain': np.float64(0.0),\n",
              "  'average_number_of_hyphens_in_subdomain': np.float64(0.0),\n",
              "  'having_special_characters_in_subdomain': 0,\n",
              "  'number_of_special_characters_in_subdomain': 0,\n",
              "  'having_digits_in_subdomain': 1,\n",
              "  'number_of_digits_in_subdomain': 1,\n",
              "  'having_repeated_digits_in_subdomain': 0,\n",
              "  'having_path': 1,\n",
              "  'path_length': 16,\n",
              "  'having_query': 0,\n",
              "  'having_fragment': 0,\n",
              "  'having_anchor': 0,\n",
              "  'entropy_of_url': np.float64(4.110736992940919),\n",
              "  'entropy_of_domain': np.float64(3.2195282822995477)}}"
            ]
          },
          "metadata": {},
          "execution_count": 28
        }
      ]
    },
    {
      "cell_type": "code",
      "source": [
        "import pandas as pd\n",
        "from sklearn.model_selection import train_test_split\n",
        "from sklearn.metrics import confusion_matrix, accuracy_score\n",
        "import joblib\n",
        "import matplotlib.pyplot as plt\n",
        "import seaborn as sns\n",
        "\n",
        "# Load dataset\n",
        "df = pd.read_csv('/content/phishng.csv', sep=';')\n",
        "if not all(col in df.columns for col in ['Type', 'url_length', 'number_of_dots_in_url']):\n",
        "    raise ValueError(\"Dataset missing required columns\")\n",
        "df = df.dropna()\n",
        "if not df['Type'].isin([0, 1]).all():\n",
        "    raise ValueError(\"Type column must contain only 0 or 1\")\n",
        "\n",
        "# Preprocess data\n",
        "X = df.drop('Type', axis=1)\n",
        "y = df['Type']\n",
        "scaler = joblib.load('model_outputs/scaler.pkl')\n",
        "X_scaled = scaler.transform(X)\n",
        "\n",
        "# Split data (same as training)\n",
        "X_train, X_test, y_train, y_test = train_test_split(X_scaled, y, test_size=0.2, random_state=42, stratify=y)\n",
        "\n",
        "# Load model\n",
        "model = joblib.load('model_outputs/phishing_model.pkl')\n",
        "\n",
        "# Evaluate\n",
        "y_pred = model.predict(X_test)\n",
        "\n",
        "# Accuracy\n",
        "accuracy = accuracy_score(y_test, y_pred)\n",
        "print(f\"Model Accuracy: {accuracy:.4f} ({accuracy*100:.2f}%)\")\n",
        "\n",
        "# Confusion Matrix\n",
        "cm = confusion_matrix(y_test, y_pred)\n",
        "print(\"\\nConfusion Matrix:\")\n",
        "print(cm)\n",
        "\n",
        "# Plot Confusion Matrix\n",
        "plt.figure(figsize=(8, 6))\n",
        "sns.heatmap(cm, annot=True, fmt='d', cmap='Blues', xticklabels=['Safe', 'Phishing'], yticklabels=['Safe', 'Phishing'])\n",
        "plt.title('Confusion Matrix')\n",
        "plt.xlabel('Predicted')\n",
        "plt.ylabel('Actual')\n",
        "plt.show()"
      ],
      "metadata": {
        "colab": {
          "base_uri": "https://localhost:8080/",
          "height": 651
        },
        "id": "hHwQZHbz0D_u",
        "outputId": "67366674-1c55-46fe-eba9-da383ec38ca7"
      },
      "execution_count": 29,
      "outputs": [
        {
          "output_type": "stream",
          "name": "stdout",
          "text": [
            "Model Accuracy: 0.9668 (96.68%)\n",
            "\n",
            "Confusion Matrix:\n",
            "[[25006   702]\n",
            " [  946 22936]]\n"
          ]
        },
        {
          "output_type": "display_data",
          "data": {
            "text/plain": [
              "<Figure size 800x600 with 2 Axes>"
            ],
            "image/png": "[encoded data removed]"
          },
          "metadata": {}
        }
      ]
    },
    {
      "cell_type": "code",
      "source": [
        "from google.colab import files\n",
        "files.download('model_outputs/phishing_model.pkl')\n",
        "files.download('model_outputs/scaler.pkl')\n",
        "files.download('model_outputs/feature_names.pkl')"
      ],
      "metadata": {
        "colab": {
          "base_uri": "https://localhost:8080/",
          "height": 17
        },
        "id": "0UQzlkLZ1vNl",
        "outputId": "14c7cd53-4485-4878-90ba-519dfdea6832"
      },
      "execution_count": 30,
      "outputs": [
        {
          "output_type": "display_data",
          "data": {
            "text/plain": [
              "<IPython.core.display.Javascript object>"
            ],
            "application/javascript": [
              "\n",
              "    async function download(id, filename, size) {\n",
              "      if (!google.colab.kernel.accessAllowed) {\n",
              "        return;\n",
              "      }\n",
              "      const div = document.createElement('div');\n",
              "      const label = document.createElement('label');\n",
              "      label.textContent = `Downloading \"${filename}\": `;\n",
              "      div.appendChild(label);\n",
              "      const progress = document.createElement('progress');\n",
              "      progress.max = size;\n",
              "      div.appendChild(progress);\n",
              "      document.body.appendChild(div);\n",
              "\n",
              "      const buffers = [];\n",
              "      let downloaded = 0;\n",
              "\n",
              "      const channel = await google.colab.kernel.comms.open(id);\n",
              "      // Send a message to notify the kernel that we're ready.\n",
              "      channel.send({})\n",
              "\n",
              "      for await (const message of channel.messages) {\n",
              "        // Send a message to notify the kernel that we're ready.\n",
              "        channel.send({})\n",
              "        if (message.buffers) {\n",
              "          for (const buffer of message.buffers) {\n",
              "            buffers.push(buffer);\n",
              "            downloaded += buffer.byteLength;\n",
              "            progress.value = downloaded;\n",
              "          }\n",
              "        }\n",
              "      }\n",
              "      const blob = new Blob(buffers, {type: 'application/binary'});\n",
              "      const a = document.createElement('a');\n",
              "      a.href = window.URL.createObjectURL(blob);\n",
              "      a.download = filename;\n",
              "      div.appendChild(a);\n",
              "      a.click();\n",
              "      div.remove();\n",
              "    }\n",
              "  "
            ]
          },
          "metadata": {}
        },
        {
          "output_type": "display_data",
          "data": {
            "text/plain": [
              "<IPython.core.display.Javascript object>"
            ],
            "application/javascript": [
              "download(\"download_db9d5ce5-20ed-4213-b29b-96ee54545a8a\", \"phishing_model.pkl\", 542831065)"
            ]
          },
          "metadata": {}
        },
        {
          "output_type": "display_data",
          "data": {
            "text/plain": [
              "<IPython.core.display.Javascript object>"
            ],
            "application/javascript": [
              "\n",
              "    async function download(id, filename, size) {\n",
              "      if (!google.colab.kernel.accessAllowed) {\n",
              "        return;\n",
              "      }\n",
              "      const div = document.createElement('div');\n",
              "      const label = document.createElement('label');\n",
              "      label.textContent = `Downloading \"${filename}\": `;\n",
              "      div.appendChild(label);\n",
              "      const progress = document.createElement('progress');\n",
              "      progress.max = size;\n",
              "      div.appendChild(progress);\n",
              "      document.body.appendChild(div);\n",
              "\n",
              "      const buffers = [];\n",
              "      let downloaded = 0;\n",
              "\n",
              "      const channel = await google.colab.kernel.comms.open(id);\n",
              "      // Send a message to notify the kernel that we're ready.\n",
              "      channel.send({})\n",
              "\n",
              "      for await (const message of channel.messages) {\n",
              "        // Send a message to notify the kernel that we're ready.\n",
              "        channel.send({})\n",
              "        if (message.buffers) {\n",
              "          for (const buffer of message.buffers) {\n",
              "            buffers.push(buffer);\n",
              "            downloaded += buffer.byteLength;\n",
              "            progress.value = downloaded;\n",
              "          }\n",
              "        }\n",
              "      }\n",
              "      const blob = new Blob(buffers, {type: 'application/binary'});\n",
              "      const a = document.createElement('a');\n",
              "      a.href = window.URL.createObjectURL(blob);\n",
              "      a.download = filename;\n",
              "      div.appendChild(a);\n",
              "      a.click();\n",
              "      div.remove();\n",
              "    }\n",
              "  "
            ]
          },
          "metadata": {}
        },
        {
          "output_type": "display_data",
          "data": {
            "text/plain": [
              "<IPython.core.display.Javascript object>"
            ],
            "application/javascript": [
              "download(\"download_59bee39d-84d4-4708-bb1a-e134dfb48a51\", \"scaler.pkl\", 3167)"
            ]
          },
          "metadata": {}
        },
        {
          "output_type": "display_data",
          "data": {
            "text/plain": [
              "<IPython.core.display.Javascript object>"
            ],
            "application/javascript": [
              "\n",
              "    async function download(id, filename, size) {\n",
              "      if (!google.colab.kernel.accessAllowed) {\n",
              "        return;\n",
              "      }\n",
              "      const div = document.createElement('div');\n",
              "      const label = document.createElement('label');\n",
              "      label.textContent = `Downloading \"${filename}\": `;\n",
              "      div.appendChild(label);\n",
              "      const progress = document.createElement('progress');\n",
              "      progress.max = size;\n",
              "      div.appendChild(progress);\n",
              "      document.body.appendChild(div);\n",
              "\n",
              "      const buffers = [];\n",
              "      let downloaded = 0;\n",
              "\n",
              "      const channel = await google.colab.kernel.comms.open(id);\n",
              "      // Send a message to notify the kernel that we're ready.\n",
              "      channel.send({})\n",
              "\n",
              "      for await (const message of channel.messages) {\n",
              "        // Send a message to notify the kernel that we're ready.\n",
              "        channel.send({})\n",
              "        if (message.buffers) {\n",
              "          for (const buffer of message.buffers) {\n",
              "            buffers.push(buffer);\n",
              "            downloaded += buffer.byteLength;\n",
              "            progress.value = downloaded;\n",
              "          }\n",
              "        }\n",
              "      }\n",
              "      const blob = new Blob(buffers, {type: 'application/binary'});\n",
              "      const a = document.createElement('a');\n",
              "      a.href = window.URL.createObjectURL(blob);\n",
              "      a.download = filename;\n",
              "      div.appendChild(a);\n",
              "      a.click();\n",
              "      div.remove();\n",
              "    }\n",
              "  "
            ]
          },
          "metadata": {}
        },
        {
          "output_type": "display_data",
          "data": {
            "text/plain": [
              "<IPython.core.display.Javascript object>"
            ],
            "application/javascript": [
              "download(\"download_ead89402-b72d-4fd2-82e7-1beca1d90e2d\", \"feature_names.pkl\", 1788)"
            ]
          },
          "metadata": {}
        }
      ]
    },
    {
      "cell_type": "code",
      "source": [],
      "metadata": {
        "id": "y_Sk5Gqy3Urq"
      },
      "execution_count": null,
      "outputs": []
    }
  ]
}